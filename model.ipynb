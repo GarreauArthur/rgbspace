{
  "nbformat": 4,
  "nbformat_minor": 0,
  "metadata": {
    "colab": {
      "name": "model.ipynb",
      "version": "0.3.2",
      "provenance": [],
      "collapsed_sections": [],
      "include_colab_link": true
    },
    "kernelspec": {
      "name": "python3",
      "display_name": "Python 3"
    },
    "accelerator": "GPU"
  },
  "cells": [
    {
      "cell_type": "markdown",
      "metadata": {
        "id": "view-in-github",
        "colab_type": "text"
      },
      "source": [
        "<a href=\"https://colab.research.google.com/github/GarreauArthur/rgbspace/blob/master/model.ipynb\" target=\"_parent\"><img src=\"https://colab.research.google.com/assets/colab-badge.svg\" alt=\"Open In Colab\"/></a>"
      ]
    },
    {
      "cell_type": "markdown",
      "metadata": {
        "id": "cY0mDDIIHF_B",
        "colab_type": "text"
      },
      "source": [
        "# Import"
      ]
    },
    {
      "cell_type": "code",
      "metadata": {
        "id": "lqhaUYcvFIj4",
        "colab_type": "code",
        "colab": {}
      },
      "source": [
        "import numpy as np\n",
        "import pandas as pd\n",
        "%matplotlib inline\n",
        "import matplotlib.pyplot as plt\n",
        "import matplotlib.patches as patches\n",
        "from __future__ import absolute_import, division, print_function, unicode_literals\n",
        "\n",
        "# Install TensorFlow\n",
        "try:\n",
        "  # %tensorflow_version only exists in Colab.\n",
        "  %tensorflow_version 2.x\n",
        "except Exception:\n",
        "  pass\n",
        "\n",
        "import tensorflow as tf"
      ],
      "execution_count": 0,
      "outputs": []
    },
    {
      "cell_type": "markdown",
      "metadata": {
        "id": "wd0BhRilHWQd",
        "colab_type": "text"
      },
      "source": [
        "# The data\n",
        "\n",
        "first download the data"
      ]
    },
    {
      "cell_type": "code",
      "metadata": {
        "id": "ts0kLQiDHPFv",
        "colab_type": "code",
        "colab": {
          "base_uri": "https://localhost:8080/",
          "height": 119
        },
        "outputId": "ce7e9b64-2f85-41b9-97ca-31baee44eebb"
      },
      "source": [
        "!rm -rf rgbspace\n",
        "!git clone https://github.com/GarreauArthur/rgbspace.git"
      ],
      "execution_count": 58,
      "outputs": [
        {
          "output_type": "stream",
          "text": [
            "Cloning into 'rgbspace'...\n",
            "remote: Enumerating objects: 26, done.\u001b[K\n",
            "remote: Counting objects:   3% (1/26)\u001b[K\rremote: Counting objects:   7% (2/26)\u001b[K\rremote: Counting objects:  11% (3/26)\u001b[K\rremote: Counting objects:  15% (4/26)\u001b[K\rremote: Counting objects:  19% (5/26)\u001b[K\rremote: Counting objects:  23% (6/26)\u001b[K\rremote: Counting objects:  26% (7/26)\u001b[K\rremote: Counting objects:  30% (8/26)\u001b[K\rremote: Counting objects:  34% (9/26)\u001b[K\rremote: Counting objects:  38% (10/26)\u001b[K\rremote: Counting objects:  42% (11/26)\u001b[K\rremote: Counting objects:  46% (12/26)\u001b[K\rremote: Counting objects:  50% (13/26)\u001b[K\rremote: Counting objects:  53% (14/26)\u001b[K\rremote: Counting objects:  57% (15/26)\u001b[K\rremote: Counting objects:  61% (16/26)\u001b[K\rremote: Counting objects:  65% (17/26)\u001b[K\rremote: Counting objects:  69% (18/26)\u001b[K\rremote: Counting objects:  73% (19/26)\u001b[K\rremote: Counting objects:  76% (20/26)\u001b[K\rremote: Counting objects:  80% (21/26)\u001b[K\rremote: Counting objects:  84% (22/26)\u001b[K\rremote: Counting objects:  88% (23/26)\u001b[K\rremote: Counting objects:  92% (24/26)\u001b[K\rremote: Counting objects:  96% (25/26)\u001b[K\rremote: Counting objects: 100% (26/26)\u001b[K\rremote: Counting objects: 100% (26/26), done.\u001b[K\n",
            "remote: Compressing objects:   4% (1/22)\u001b[K\rremote: Compressing objects:   9% (2/22)\u001b[K\rremote: Compressing objects:  13% (3/22)\u001b[K\rremote: Compressing objects:  18% (4/22)\u001b[K\rremote: Compressing objects:  22% (5/22)\u001b[K\rremote: Compressing objects:  27% (6/22)\u001b[K\rremote: Compressing objects:  31% (7/22)\u001b[K\rremote: Compressing objects:  36% (8/22)\u001b[K\rremote: Compressing objects:  40% (9/22)\u001b[K\rremote: Compressing objects:  45% (10/22)\u001b[K\rremote: Compressing objects:  50% (11/22)\u001b[K\rremote: Compressing objects:  54% (12/22)\u001b[K\rremote: Compressing objects:  59% (13/22)\u001b[K\rremote: Compressing objects:  63% (14/22)\u001b[K\rremote: Compressing objects:  68% (15/22)\u001b[K\rremote: Compressing objects:  72% (16/22)\u001b[K\rremote: Compressing objects:  77% (17/22)\u001b[K\rremote: Compressing objects:  81% (18/22)\u001b[K\rremote: Compressing objects:  86% (19/22)\u001b[K\rremote: Compressing objects:  90% (20/22)\u001b[K\rremote: Compressing objects:  95% (21/22)\u001b[K\rremote: Compressing objects: 100% (22/22)\u001b[K\rremote: Compressing objects: 100% (22/22), done.\u001b[K\n",
            "Unpacking objects:   3% (1/26)   \rUnpacking objects:   7% (2/26)   \rUnpacking objects:  11% (3/26)   \rUnpacking objects:  15% (4/26)   \rUnpacking objects:  19% (5/26)   \rUnpacking objects:  23% (6/26)   \rUnpacking objects:  26% (7/26)   \rUnpacking objects:  30% (8/26)   \rUnpacking objects:  34% (9/26)   \rUnpacking objects:  38% (10/26)   \rUnpacking objects:  42% (11/26)   \rUnpacking objects:  46% (12/26)   \rUnpacking objects:  50% (13/26)   \rremote: Total 26 (delta 12), reused 10 (delta 4), pack-reused 0\n",
            "Unpacking objects:  53% (14/26)   \rUnpacking objects:  57% (15/26)   \rUnpacking objects:  61% (16/26)   \rUnpacking objects:  65% (17/26)   \rUnpacking objects:  69% (18/26)   \rUnpacking objects:  73% (19/26)   \rUnpacking objects:  76% (20/26)   \rUnpacking objects:  80% (21/26)   \rUnpacking objects:  84% (22/26)   \rUnpacking objects:  88% (23/26)   \rUnpacking objects:  92% (24/26)   \rUnpacking objects:  96% (25/26)   \rUnpacking objects: 100% (26/26)   \rUnpacking objects: 100% (26/26), done.\n"
          ],
          "name": "stdout"
        }
      ]
    },
    {
      "cell_type": "code",
      "metadata": {
        "id": "qNoy-aBTHbpC",
        "colab_type": "code",
        "colab": {
          "base_uri": "https://localhost:8080/",
          "height": 204
        },
        "outputId": "f0e8efdf-5493-43c9-b9d8-b80621714cea"
      },
      "source": [
        "data = pd.read_csv(\"./rgbspace/data.csv\")\n",
        "data.head()"
      ],
      "execution_count": 59,
      "outputs": [
        {
          "output_type": "execute_result",
          "data": {
            "text/html": [
              "<div>\n",
              "<style scoped>\n",
              "    .dataframe tbody tr th:only-of-type {\n",
              "        vertical-align: middle;\n",
              "    }\n",
              "\n",
              "    .dataframe tbody tr th {\n",
              "        vertical-align: top;\n",
              "    }\n",
              "\n",
              "    .dataframe thead th {\n",
              "        text-align: right;\n",
              "    }\n",
              "</style>\n",
              "<table border=\"1\" class=\"dataframe\">\n",
              "  <thead>\n",
              "    <tr style=\"text-align: right;\">\n",
              "      <th></th>\n",
              "      <th>red</th>\n",
              "      <th>blue</th>\n",
              "      <th>green</th>\n",
              "      <th>color</th>\n",
              "    </tr>\n",
              "  </thead>\n",
              "  <tbody>\n",
              "    <tr>\n",
              "      <th>0</th>\n",
              "      <td>66.0</td>\n",
              "      <td>94.0</td>\n",
              "      <td>219.0</td>\n",
              "      <td>4.0</td>\n",
              "    </tr>\n",
              "    <tr>\n",
              "      <th>1</th>\n",
              "      <td>183.0</td>\n",
              "      <td>50.0</td>\n",
              "      <td>118.0</td>\n",
              "      <td>0.0</td>\n",
              "    </tr>\n",
              "    <tr>\n",
              "      <th>2</th>\n",
              "      <td>125.0</td>\n",
              "      <td>68.0</td>\n",
              "      <td>120.0</td>\n",
              "      <td>5.0</td>\n",
              "    </tr>\n",
              "    <tr>\n",
              "      <th>3</th>\n",
              "      <td>250.0</td>\n",
              "      <td>44.0</td>\n",
              "      <td>144.0</td>\n",
              "      <td>0.0</td>\n",
              "    </tr>\n",
              "    <tr>\n",
              "      <th>4</th>\n",
              "      <td>55.0</td>\n",
              "      <td>205.0</td>\n",
              "      <td>178.0</td>\n",
              "      <td>3.0</td>\n",
              "    </tr>\n",
              "  </tbody>\n",
              "</table>\n",
              "</div>"
            ],
            "text/plain": [
              "     red   blue  green  color\n",
              "0   66.0   94.0  219.0    4.0\n",
              "1  183.0   50.0  118.0    0.0\n",
              "2  125.0   68.0  120.0    5.0\n",
              "3  250.0   44.0  144.0    0.0\n",
              "4   55.0  205.0  178.0    3.0"
            ]
          },
          "metadata": {
            "tags": []
          },
          "execution_count": 59
        }
      ]
    },
    {
      "cell_type": "markdown",
      "metadata": {
        "id": "wrpNvaoNHpk3",
        "colab_type": "text"
      },
      "source": [
        "The data is made of 4 column, one for each color RGB, and one giving the label of the color:\n",
        "\n",
        "* 0 is red\n",
        "* 1 is yellow\n",
        "* 2 is green\n",
        "* 3 is cyan\n",
        "* 4 is blue\n",
        "* 5 is magenta\n",
        "\n",
        "Let's extract the data, and normalize the inputs"
      ]
    },
    {
      "cell_type": "code",
      "metadata": {
        "id": "J-McVhK8Hggr",
        "colab_type": "code",
        "colab": {
          "base_uri": "https://localhost:8080/",
          "height": 204
        },
        "outputId": "58fd678c-5130-4289-8b52-0f0aa0f1954a"
      },
      "source": [
        "color = data.loc[:, 'color']\n",
        "rgb = data.loc[:, :'green']\n",
        "normalized_rgb = (rgb-128)/255\n",
        "normalized_rgb.head()"
      ],
      "execution_count": 60,
      "outputs": [
        {
          "output_type": "execute_result",
          "data": {
            "text/html": [
              "<div>\n",
              "<style scoped>\n",
              "    .dataframe tbody tr th:only-of-type {\n",
              "        vertical-align: middle;\n",
              "    }\n",
              "\n",
              "    .dataframe tbody tr th {\n",
              "        vertical-align: top;\n",
              "    }\n",
              "\n",
              "    .dataframe thead th {\n",
              "        text-align: right;\n",
              "    }\n",
              "</style>\n",
              "<table border=\"1\" class=\"dataframe\">\n",
              "  <thead>\n",
              "    <tr style=\"text-align: right;\">\n",
              "      <th></th>\n",
              "      <th>red</th>\n",
              "      <th>blue</th>\n",
              "      <th>green</th>\n",
              "    </tr>\n",
              "  </thead>\n",
              "  <tbody>\n",
              "    <tr>\n",
              "      <th>0</th>\n",
              "      <td>-0.243137</td>\n",
              "      <td>-0.133333</td>\n",
              "      <td>0.356863</td>\n",
              "    </tr>\n",
              "    <tr>\n",
              "      <th>1</th>\n",
              "      <td>0.215686</td>\n",
              "      <td>-0.305882</td>\n",
              "      <td>-0.039216</td>\n",
              "    </tr>\n",
              "    <tr>\n",
              "      <th>2</th>\n",
              "      <td>-0.011765</td>\n",
              "      <td>-0.235294</td>\n",
              "      <td>-0.031373</td>\n",
              "    </tr>\n",
              "    <tr>\n",
              "      <th>3</th>\n",
              "      <td>0.478431</td>\n",
              "      <td>-0.329412</td>\n",
              "      <td>0.062745</td>\n",
              "    </tr>\n",
              "    <tr>\n",
              "      <th>4</th>\n",
              "      <td>-0.286275</td>\n",
              "      <td>0.301961</td>\n",
              "      <td>0.196078</td>\n",
              "    </tr>\n",
              "  </tbody>\n",
              "</table>\n",
              "</div>"
            ],
            "text/plain": [
              "        red      blue     green\n",
              "0 -0.243137 -0.133333  0.356863\n",
              "1  0.215686 -0.305882 -0.039216\n",
              "2 -0.011765 -0.235294 -0.031373\n",
              "3  0.478431 -0.329412  0.062745\n",
              "4 -0.286275  0.301961  0.196078"
            ]
          },
          "metadata": {
            "tags": []
          },
          "execution_count": 60
        }
      ]
    },
    {
      "cell_type": "markdown",
      "metadata": {
        "id": "c9U4xKpDP6Pm",
        "colab_type": "text"
      },
      "source": [
        "Let's try to visualize the data"
      ]
    },
    {
      "cell_type": "code",
      "metadata": {
        "id": "t3V4EtLOP9Yf",
        "colab_type": "code",
        "colab": {
          "base_uri": "https://localhost:8080/",
          "height": 612
        },
        "outputId": "dbece475-871a-4b71-c12a-91bf468e7f22"
      },
      "source": [
        "fig = plt.figure(figsize=(10,10))\n",
        "ax = fig.add_subplot(111, aspect='equal')\n",
        "for i in range(0,11):\n",
        "  pixel = rgb.loc[i, :].values/255\n",
        "  rec = patches.Rectangle((0, -i*10), 10, 10, color=pixel)\n",
        "  ax.add_patch(rec)\n",
        "  ax.text(15, -i*10 + 5, color.loc[i])\n",
        "  \n",
        "plt.axis((0,50,-100,10))"
      ],
      "execution_count": 61,
      "outputs": [
        {
          "output_type": "execute_result",
          "data": {
            "text/plain": [
              "(0, 50, -100, 10)"
            ]
          },
          "metadata": {
            "tags": []
          },
          "execution_count": 61
        },
        {
          "output_type": "display_data",
          "data": {
            "image/png": "[encoded data removed]",
            "text/plain": [
              "<Figure size 720x720 with 1 Axes>"
            ]
          },
          "metadata": {
            "tags": []
          }
        }
      ]
    },
    {
      "cell_type": "code",
      "metadata": {
        "id": "I0SkELTYTJL6",
        "colab_type": "code",
        "colab": {
          "base_uri": "https://localhost:8080/",
          "height": 34
        },
        "outputId": "9f901285-ffd9-4e20-8c5d-337bac7c6978"
      },
      "source": [
        "print(rgb.loc[1, :].values/255)"
      ],
      "execution_count": 62,
      "outputs": [
        {
          "output_type": "stream",
          "text": [
            "[0.71764706 0.19607843 0.4627451 ]\n"
          ],
          "name": "stdout"
        }
      ]
    },
    {
      "cell_type": "markdown",
      "metadata": {
        "id": "67sSSZe7ITW1",
        "colab_type": "text"
      },
      "source": [
        "Let's define the size of our data sets"
      ]
    },
    {
      "cell_type": "code",
      "metadata": {
        "id": "78A7pA_yIMYZ",
        "colab_type": "code",
        "colab": {
          "base_uri": "https://localhost:8080/",
          "height": 34
        },
        "outputId": "e8d7948b-d4e2-4e75-9c65-4bdbb43f19c3"
      },
      "source": [
        "total_number_of_examples = rgb['red'].count()\n",
        "\n",
        "m_train_int = int(total_number_of_examples*0.8)\n",
        "m_dev_int = int(total_number_of_examples*0.1)\n",
        "m_test_int = int(total_number_of_examples*0.1)\n",
        "\n",
        "\n",
        "m_train = np.float64(m_train_int)\n",
        "m_dev   = np.float64(m_dev_int)\n",
        "m_test  = np.float64(m_test_int)\n",
        "print(m_train, m_test, m_dev)"
      ],
      "execution_count": 63,
      "outputs": [
        {
          "output_type": "stream",
          "text": [
            "8000.0 1000.0 1000.0\n"
          ],
          "name": "stdout"
        }
      ]
    },
    {
      "cell_type": "markdown",
      "metadata": {
        "id": "43wr44lOIcaN",
        "colab_type": "text"
      },
      "source": [
        "Now, we prepare the datasets"
      ]
    },
    {
      "cell_type": "code",
      "metadata": {
        "id": "G-mzgqOXIX-F",
        "colab_type": "code",
        "colab": {
          "base_uri": "https://localhost:8080/",
          "height": 34
        },
        "outputId": "784a0974-e1b3-4e24-bf5b-93e42ec74526"
      },
      "source": [
        "# split the dataset in 3\n",
        "x_train = normalized_rgb.loc[:(m_train-1), 'red':'green'].values\n",
        "x_dev = normalized_rgb.loc[m_train:(m_train+m_dev-1), 'red':'green'].values\n",
        "x_test = normalized_rgb.loc[(m_train+m_dev):, 'red':'green'].values\n",
        "# shape (number of feature, number of example\n",
        "\n",
        "# transform the color (output) into a one hot vector\n",
        "nb_classes = 6\n",
        "Y = color.astype('int64').values.reshape(-1)\n",
        "one_hot = np.eye(nb_classes)[Y]\n",
        "one_hot = one_hot.reshape(10000, 6)\n",
        "\n",
        "y_train = one_hot[:(m_train_int), :]\n",
        "y_dev = one_hot[m_train_int:(m_train_int+m_dev_int), :]\n",
        "y_test = one_hot[(m_train_int+m_dev_int):, :]\n",
        "print(y_train.shape)"
      ],
      "execution_count": 64,
      "outputs": [
        {
          "output_type": "stream",
          "text": [
            "(8000, 6)\n"
          ],
          "name": "stdout"
        }
      ]
    },
    {
      "cell_type": "markdown",
      "metadata": {
        "id": "KzLd6LjwI0iA",
        "colab_type": "text"
      },
      "source": [
        "Let's build a tensorflow 2 model"
      ]
    },
    {
      "cell_type": "code",
      "metadata": {
        "id": "SdNZ1qipIite",
        "colab_type": "code",
        "colab": {}
      },
      "source": [
        "model = tf.keras.models.Sequential([\n",
        "    tf.keras.layers.Dense(5, activation='relu'),\n",
        "    tf.keras.layers.Dense(7, activation='relu'),\n",
        "    tf.keras.layers.Dense(6, activation='softmax'),\n",
        "])\n",
        "\n",
        "model.compile(optimizer='adam', loss='categorical_crossentropy',\n",
        "              metrics=['accuracy'])"
      ],
      "execution_count": 0,
      "outputs": []
    },
    {
      "cell_type": "markdown",
      "metadata": {
        "id": "s8J_YWSlJ3X7",
        "colab_type": "text"
      },
      "source": [
        "Train\n",
        "\n"
      ]
    },
    {
      "cell_type": "code",
      "metadata": {
        "id": "dizXVN6vJ1p9",
        "colab_type": "code",
        "colab": {
          "base_uri": "https://localhost:8080/",
          "height": 731
        },
        "outputId": "221f7f9f-e98f-4714-a489-a00ba5a26880"
      },
      "source": [
        "model.fit(x_train, y_train, epochs=20, batch_size=32)"
      ],
      "execution_count": 66,
      "outputs": [
        {
          "output_type": "stream",
          "text": [
            "Train on 8000 samples\n",
            "Epoch 1/20\n",
            "8000/8000 [==============================] - 1s 84us/sample - loss: 1.6974 - accuracy: 0.3291\n",
            "Epoch 2/20\n",
            "8000/8000 [==============================] - 1s 76us/sample - loss: 1.2887 - accuracy: 0.5174\n",
            "Epoch 3/20\n",
            "8000/8000 [==============================] - 1s 76us/sample - loss: 0.7986 - accuracy: 0.7574\n",
            "Epoch 4/20\n",
            "8000/8000 [==============================] - 1s 69us/sample - loss: 0.5114 - accuracy: 0.9247\n",
            "Epoch 5/20\n",
            "8000/8000 [==============================] - 1s 71us/sample - loss: 0.3630 - accuracy: 0.9506\n",
            "Epoch 6/20\n",
            "8000/8000 [==============================] - 1s 71us/sample - loss: 0.2830 - accuracy: 0.9620\n",
            "Epoch 7/20\n",
            "8000/8000 [==============================] - 1s 69us/sample - loss: 0.2351 - accuracy: 0.9699\n",
            "Epoch 8/20\n",
            "8000/8000 [==============================] - 1s 72us/sample - loss: 0.2044 - accuracy: 0.9740\n",
            "Epoch 9/20\n",
            "8000/8000 [==============================] - 1s 68us/sample - loss: 0.1813 - accuracy: 0.9741\n",
            "Epoch 10/20\n",
            "8000/8000 [==============================] - 1s 71us/sample - loss: 0.1641 - accuracy: 0.9766\n",
            "Epoch 11/20\n",
            "8000/8000 [==============================] - 1s 69us/sample - loss: 0.1508 - accuracy: 0.9790\n",
            "Epoch 12/20\n",
            "8000/8000 [==============================] - 1s 70us/sample - loss: 0.1400 - accuracy: 0.9808\n",
            "Epoch 13/20\n",
            "8000/8000 [==============================] - 1s 69us/sample - loss: 0.1311 - accuracy: 0.9805\n",
            "Epoch 14/20\n",
            "8000/8000 [==============================] - 1s 71us/sample - loss: 0.1233 - accuracy: 0.9816\n",
            "Epoch 15/20\n",
            "8000/8000 [==============================] - 1s 69us/sample - loss: 0.1168 - accuracy: 0.9818\n",
            "Epoch 16/20\n",
            "8000/8000 [==============================] - 1s 70us/sample - loss: 0.1110 - accuracy: 0.9827\n",
            "Epoch 17/20\n",
            "8000/8000 [==============================] - 1s 70us/sample - loss: 0.1059 - accuracy: 0.9841\n",
            "Epoch 18/20\n",
            "8000/8000 [==============================] - 1s 69us/sample - loss: 0.1014 - accuracy: 0.9837\n",
            "Epoch 19/20\n",
            "8000/8000 [==============================] - 1s 71us/sample - loss: 0.0972 - accuracy: 0.9847\n",
            "Epoch 20/20\n",
            "8000/8000 [==============================] - 1s 69us/sample - loss: 0.0942 - accuracy: 0.9843\n"
          ],
          "name": "stdout"
        },
        {
          "output_type": "execute_result",
          "data": {
            "text/plain": [
              "<tensorflow.python.keras.callbacks.History at 0x7f15bca7dbe0>"
            ]
          },
          "metadata": {
            "tags": []
          },
          "execution_count": 66
        }
      ]
    },
    {
      "cell_type": "code",
      "metadata": {
        "id": "p_OyhLjLLDsr",
        "colab_type": "code",
        "colab": {
          "base_uri": "https://localhost:8080/",
          "height": 51
        },
        "outputId": "3494e236-229c-4d08-88c3-92e59c5c5d03"
      },
      "source": [
        "model.evaluate(x_test, y_test)"
      ],
      "execution_count": 67,
      "outputs": [
        {
          "output_type": "stream",
          "text": [
            "1000/1000 [==============================] - 0s 81us/sample - loss: 0.0901 - accuracy: 0.9830\n"
          ],
          "name": "stdout"
        },
        {
          "output_type": "execute_result",
          "data": {
            "text/plain": [
              "[0.09007825693488121, 0.983]"
            ]
          },
          "metadata": {
            "tags": []
          },
          "execution_count": 67
        }
      ]
    },
    {
      "cell_type": "code",
      "metadata": {
        "id": "B_dFHxNhNDB_",
        "colab_type": "code",
        "colab": {
          "base_uri": "https://localhost:8080/",
          "height": 85
        },
        "outputId": "392c6bc4-1bdf-4eb9-b106-0433229d459e"
      },
      "source": [
        "data_pred = np.array([[255,1,1], [1, 255, 1], [1, 1, 255], [237,\t235, 112]])\n",
        "print(model.predict(data_pred))"
      ],
      "execution_count": 68,
      "outputs": [
        {
          "output_type": "stream",
          "text": [
            "[[1. 0. 0. 0. 0. 0.]\n",
            " [0. 0. 1. 0. 0. 0.]\n",
            " [0. 0. 0. 0. 1. 0.]\n",
            " [0. 1. 0. 0. 0. 0.]]\n"
          ],
          "name": "stdout"
        }
      ]
    },
    {
      "cell_type": "code",
      "metadata": {
        "id": "Do6t5Fq0Na8g",
        "colab_type": "code",
        "colab": {}
      },
      "source": [
        ""
      ],
      "execution_count": 0,
      "outputs": []
    }
  ]
}