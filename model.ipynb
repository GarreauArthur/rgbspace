{
  "nbformat": 4,
  "nbformat_minor": 0,
  "metadata": {
    "colab": {
      "name": "model.ipynb",
      "version": "0.3.2",
      "provenance": [],
      "collapsed_sections": [],
      "include_colab_link": true
    },
    "kernelspec": {
      "name": "python3",
      "display_name": "Python 3"
    },
    "accelerator": "GPU"
  },
  "cells": [
    {
      "cell_type": "markdown",
      "metadata": {
        "id": "view-in-github",
        "colab_type": "text"
      },
      "source": [
        "<a href=\"https://colab.research.google.com/github/GarreauArthur/rgbspace/blob/master/model.ipynb\" target=\"_parent\"><img src=\"https://colab.research.google.com/assets/colab-badge.svg\" alt=\"Open In Colab\"/></a>"
      ]
    },
    {
      "cell_type": "markdown",
      "metadata": {
        "id": "cY0mDDIIHF_B",
        "colab_type": "text"
      },
      "source": [
        "# Import"
      ]
    },
    {
      "cell_type": "code",
      "metadata": {
        "id": "lqhaUYcvFIj4",
        "colab_type": "code",
        "colab": {}
      },
      "source": [
        "import numpy as np\n",
        "import pandas as pd\n",
        "%matplotlib inline\n",
        "import matplotlib.pyplot as plt\n",
        "import matplotlib.patches as patches\n",
        "from __future__ import absolute_import, division, print_function, unicode_literals\n",
        "\n",
        "# Install TensorFlow\n",
        "try:\n",
        "  # %tensorflow_version only exists in Colab.\n",
        "  %tensorflow_version 2.x\n",
        "except Exception:\n",
        "  pass\n",
        "\n",
        "import tensorflow as tf"
      ],
      "execution_count": 0,
      "outputs": []
    },
    {
      "cell_type": "markdown",
      "metadata": {
        "id": "wd0BhRilHWQd",
        "colab_type": "text"
      },
      "source": [
        "# The data\n",
        "\n",
        "first download the data"
      ]
    },
    {
      "cell_type": "code",
      "metadata": {
        "id": "ts0kLQiDHPFv",
        "colab_type": "code",
        "colab": {
          "base_uri": "https://localhost:8080/",
          "height": 119
        },
        "outputId": "23d4a232-2990-44c1-f30c-2a22126e6ba5"
      },
      "source": [
        "!git clone https://github.com/GarreauArthur/rgbspace.git"
      ],
      "execution_count": 2,
      "outputs": [
        {
          "output_type": "stream",
          "text": [
            "Cloning into 'rgbspace'...\n",
            "remote: Enumerating objects: 13, done.\u001b[K\n",
            "remote: Counting objects:   7% (1/13)\u001b[K\rremote: Counting objects:  15% (2/13)\u001b[K\rremote: Counting objects:  23% (3/13)\u001b[K\rremote: Counting objects:  30% (4/13)\u001b[K\rremote: Counting objects:  38% (5/13)\u001b[K\rremote: Counting objects:  46% (6/13)\u001b[K\rremote: Counting objects:  53% (7/13)\u001b[K\rremote: Counting objects:  61% (8/13)\u001b[K\rremote: Counting objects:  69% (9/13)\u001b[K\rremote: Counting objects:  76% (10/13)\u001b[K\rremote: Counting objects:  84% (11/13)\u001b[K\rremote: Counting objects:  92% (12/13)\u001b[K\rremote: Counting objects: 100% (13/13)\u001b[K\rremote: Counting objects: 100% (13/13), done.\u001b[K\n",
            "remote: Compressing objects:   8% (1/12)\u001b[K\rremote: Compressing objects:  16% (2/12)\u001b[K\rremote: Compressing objects:  25% (3/12)\u001b[K\rremote: Compressing objects:  33% (4/12)\u001b[K\rremote: Compressing objects:  41% (5/12)\u001b[K\rremote: Compressing objects:  50% (6/12)\u001b[K\rremote: Compressing objects:  58% (7/12)\u001b[K\rremote: Compressing objects:  66% (8/12)\u001b[K\rremote: Compressing objects:  75% (9/12)\u001b[K\rremote: Compressing objects:  83% (10/12)\u001b[K\rremote: Compressing objects:  91% (11/12)\u001b[K\rremote: Compressing objects: 100% (12/12)\u001b[K\rremote: Compressing objects: 100% (12/12), done.\u001b[K\n",
            "Unpacking objects:   7% (1/13)   \rUnpacking objects:  15% (2/13)   \rUnpacking objects:  23% (3/13)   \rUnpacking objects:  30% (4/13)   \rUnpacking objects:  38% (5/13)   \rUnpacking objects:  46% (6/13)   \rUnpacking objects:  53% (7/13)   \rremote: Total 13 (delta 3), reused 5 (delta 1), pack-reused 0\n",
            "Unpacking objects:  61% (8/13)   \rUnpacking objects:  69% (9/13)   \rUnpacking objects:  76% (10/13)   \rUnpacking objects:  84% (11/13)   \rUnpacking objects:  92% (12/13)   \rUnpacking objects: 100% (13/13)   \rUnpacking objects: 100% (13/13), done.\n"
          ],
          "name": "stdout"
        }
      ]
    },
    {
      "cell_type": "code",
      "metadata": {
        "id": "qNoy-aBTHbpC",
        "colab_type": "code",
        "colab": {
          "base_uri": "https://localhost:8080/",
          "height": 204
        },
        "outputId": "5ccb4f7f-3da0-41bb-e3be-f7fdbb71952c"
      },
      "source": [
        "data = pd.read_csv(\"./rgbspace/data.csv\")\n",
        "data.head()"
      ],
      "execution_count": 4,
      "outputs": [
        {
          "output_type": "execute_result",
          "data": {
            "text/html": [
              "<div>\n",
              "<style scoped>\n",
              "    .dataframe tbody tr th:only-of-type {\n",
              "        vertical-align: middle;\n",
              "    }\n",
              "\n",
              "    .dataframe tbody tr th {\n",
              "        vertical-align: top;\n",
              "    }\n",
              "\n",
              "    .dataframe thead th {\n",
              "        text-align: right;\n",
              "    }\n",
              "</style>\n",
              "<table border=\"1\" class=\"dataframe\">\n",
              "  <thead>\n",
              "    <tr style=\"text-align: right;\">\n",
              "      <th></th>\n",
              "      <th>red</th>\n",
              "      <th>blue</th>\n",
              "      <th>green</th>\n",
              "      <th>color</th>\n",
              "    </tr>\n",
              "  </thead>\n",
              "  <tbody>\n",
              "    <tr>\n",
              "      <th>0</th>\n",
              "      <td>237.0</td>\n",
              "      <td>235.0</td>\n",
              "      <td>112.0</td>\n",
              "      <td>0.0</td>\n",
              "    </tr>\n",
              "    <tr>\n",
              "      <th>1</th>\n",
              "      <td>3.0</td>\n",
              "      <td>46.0</td>\n",
              "      <td>70.0</td>\n",
              "      <td>3.0</td>\n",
              "    </tr>\n",
              "    <tr>\n",
              "      <th>2</th>\n",
              "      <td>139.0</td>\n",
              "      <td>197.0</td>\n",
              "      <td>7.0</td>\n",
              "      <td>1.0</td>\n",
              "    </tr>\n",
              "    <tr>\n",
              "      <th>3</th>\n",
              "      <td>139.0</td>\n",
              "      <td>100.0</td>\n",
              "      <td>108.0</td>\n",
              "      <td>5.0</td>\n",
              "    </tr>\n",
              "    <tr>\n",
              "      <th>4</th>\n",
              "      <td>218.0</td>\n",
              "      <td>130.0</td>\n",
              "      <td>28.0</td>\n",
              "      <td>0.0</td>\n",
              "    </tr>\n",
              "  </tbody>\n",
              "</table>\n",
              "</div>"
            ],
            "text/plain": [
              "     red   blue  green  color\n",
              "0  237.0  235.0  112.0    0.0\n",
              "1    3.0   46.0   70.0    3.0\n",
              "2  139.0  197.0    7.0    1.0\n",
              "3  139.0  100.0  108.0    5.0\n",
              "4  218.0  130.0   28.0    0.0"
            ]
          },
          "metadata": {
            "tags": []
          },
          "execution_count": 4
        }
      ]
    },
    {
      "cell_type": "markdown",
      "metadata": {
        "id": "wrpNvaoNHpk3",
        "colab_type": "text"
      },
      "source": [
        "The data is made of 4 column, one for each color RGB, and one giving the label of the color:\n",
        "\n",
        "* 0 is red\n",
        "* 1 is yellow\n",
        "* 2 is green\n",
        "* 3 is cyan\n",
        "* 4 is blue\n",
        "* 5 is magenta\n",
        "\n",
        "Let's extract the data, and normalize the inputs"
      ]
    },
    {
      "cell_type": "code",
      "metadata": {
        "id": "J-McVhK8Hggr",
        "colab_type": "code",
        "colab": {
          "base_uri": "https://localhost:8080/",
          "height": 204
        },
        "outputId": "5f1519a2-f7d1-4676-be61-a0555341235a"
      },
      "source": [
        "color = data.loc[:, 'color']\n",
        "rgb = data.loc[:, :'green']\n",
        "normalized_rgb = (rgb-128)/255\n",
        "normalized_rgb.head()"
      ],
      "execution_count": 5,
      "outputs": [
        {
          "output_type": "execute_result",
          "data": {
            "text/html": [
              "<div>\n",
              "<style scoped>\n",
              "    .dataframe tbody tr th:only-of-type {\n",
              "        vertical-align: middle;\n",
              "    }\n",
              "\n",
              "    .dataframe tbody tr th {\n",
              "        vertical-align: top;\n",
              "    }\n",
              "\n",
              "    .dataframe thead th {\n",
              "        text-align: right;\n",
              "    }\n",
              "</style>\n",
              "<table border=\"1\" class=\"dataframe\">\n",
              "  <thead>\n",
              "    <tr style=\"text-align: right;\">\n",
              "      <th></th>\n",
              "      <th>red</th>\n",
              "      <th>blue</th>\n",
              "      <th>green</th>\n",
              "    </tr>\n",
              "  </thead>\n",
              "  <tbody>\n",
              "    <tr>\n",
              "      <th>0</th>\n",
              "      <td>0.427451</td>\n",
              "      <td>0.419608</td>\n",
              "      <td>-0.062745</td>\n",
              "    </tr>\n",
              "    <tr>\n",
              "      <th>1</th>\n",
              "      <td>-0.490196</td>\n",
              "      <td>-0.321569</td>\n",
              "      <td>-0.227451</td>\n",
              "    </tr>\n",
              "    <tr>\n",
              "      <th>2</th>\n",
              "      <td>0.043137</td>\n",
              "      <td>0.270588</td>\n",
              "      <td>-0.474510</td>\n",
              "    </tr>\n",
              "    <tr>\n",
              "      <th>3</th>\n",
              "      <td>0.043137</td>\n",
              "      <td>-0.109804</td>\n",
              "      <td>-0.078431</td>\n",
              "    </tr>\n",
              "    <tr>\n",
              "      <th>4</th>\n",
              "      <td>0.352941</td>\n",
              "      <td>0.007843</td>\n",
              "      <td>-0.392157</td>\n",
              "    </tr>\n",
              "  </tbody>\n",
              "</table>\n",
              "</div>"
            ],
            "text/plain": [
              "        red      blue     green\n",
              "0  0.427451  0.419608 -0.062745\n",
              "1 -0.490196 -0.321569 -0.227451\n",
              "2  0.043137  0.270588 -0.474510\n",
              "3  0.043137 -0.109804 -0.078431\n",
              "4  0.352941  0.007843 -0.392157"
            ]
          },
          "metadata": {
            "tags": []
          },
          "execution_count": 5
        }
      ]
    },
    {
      "cell_type": "markdown",
      "metadata": {
        "id": "c9U4xKpDP6Pm",
        "colab_type": "text"
      },
      "source": [
        "Let's try to visualize the data"
      ]
    },
    {
      "cell_type": "code",
      "metadata": {
        "id": "t3V4EtLOP9Yf",
        "colab_type": "code",
        "colab": {
          "base_uri": "https://localhost:8080/",
          "height": 612
        },
        "outputId": "e9bbe3ef-2151-4540-d954-9165ee2ffe38"
      },
      "source": [
        "fig = plt.figure(figsize=(10,10))\n",
        "ax = fig.add_subplot(111, aspect='equal')\n",
        "for i in range(0,11):\n",
        "  pixel = rgb.loc[i, :].values/255\n",
        "  rec = patches.Rectangle((0, -i*10), 10, 10, color=pixel)\n",
        "  ax.add_patch(rec)\n",
        "  ax.text(15, -i*10 + 5, color.loc[i])\n",
        "  \n",
        "plt.axis((0,50,-100,10))"
      ],
      "execution_count": 55,
      "outputs": [
        {
          "output_type": "execute_result",
          "data": {
            "text/plain": [
              "(0, 50, -100, 10)"
            ]
          },
          "metadata": {
            "tags": []
          },
          "execution_count": 55
        },
        {
          "output_type": "display_data",
          "data": {
            "image/png": "[encoded data removed]",
            "text/plain": [
              "<Figure size 720x720 with 1 Axes>"
            ]
          },
          "metadata": {
            "tags": []
          }
        }
      ]
    },
    {
      "cell_type": "code",
      "metadata": {
        "id": "I0SkELTYTJL6",
        "colab_type": "code",
        "colab": {
          "base_uri": "https://localhost:8080/",
          "height": 34
        },
        "outputId": "ad35fc48-8af2-4a61-caf8-f34b32c48154"
      },
      "source": [
        "print(rgb.loc[1, :].values/255)"
      ],
      "execution_count": 34,
      "outputs": [
        {
          "output_type": "stream",
          "text": [
            "[0.01176471 0.18039216 0.2745098 ]\n"
          ],
          "name": "stdout"
        }
      ]
    },
    {
      "cell_type": "markdown",
      "metadata": {
        "id": "67sSSZe7ITW1",
        "colab_type": "text"
      },
      "source": [
        "Let's define the size of our data sets"
      ]
    },
    {
      "cell_type": "code",
      "metadata": {
        "id": "78A7pA_yIMYZ",
        "colab_type": "code",
        "colab": {
          "base_uri": "https://localhost:8080/",
          "height": 34
        },
        "outputId": "53e853cc-fbfc-421f-a2bb-3de1f43c49ed"
      },
      "source": [
        "total_number_of_examples = rgb['red'].count()\n",
        "\n",
        "m_train_int = int(total_number_of_examples*0.8)\n",
        "m_dev_int = int(total_number_of_examples*0.1)\n",
        "m_test_int = int(total_number_of_examples*0.1)\n",
        "\n",
        "\n",
        "m_train = np.float64(m_train_int)\n",
        "m_dev   = np.float64(m_dev_int)\n",
        "m_test  = np.float64(m_test_int)\n",
        "print(m_train, m_test, m_dev)"
      ],
      "execution_count": 6,
      "outputs": [
        {
          "output_type": "stream",
          "text": [
            "8000.0 1000.0 1000.0\n"
          ],
          "name": "stdout"
        }
      ]
    },
    {
      "cell_type": "markdown",
      "metadata": {
        "id": "43wr44lOIcaN",
        "colab_type": "text"
      },
      "source": [
        "Now, we prepare the datasets"
      ]
    },
    {
      "cell_type": "code",
      "metadata": {
        "id": "G-mzgqOXIX-F",
        "colab_type": "code",
        "colab": {
          "base_uri": "https://localhost:8080/",
          "height": 34
        },
        "outputId": "23df612e-1511-4c0c-ef6d-df75a9c295a5"
      },
      "source": [
        "# split the dataset in 3\n",
        "x_train = normalized_rgb.loc[:(m_train-1), 'red':'green'].values\n",
        "x_dev = normalized_rgb.loc[m_train:(m_train+m_dev-1), 'red':'green'].values\n",
        "x_test = normalized_rgb.loc[(m_train+m_dev):, 'red':'green'].values\n",
        "# shape (number of feature, number of example\n",
        "\n",
        "# transform the color (output) into a one hot vector\n",
        "nb_classes = 6\n",
        "Y = color.astype('int64').values.reshape(-1)\n",
        "one_hot = np.eye(nb_classes)[Y]\n",
        "one_hot = one_hot.reshape(10000, 6)\n",
        "\n",
        "y_train = one_hot[:(m_train_int), :]\n",
        "y_dev = one_hot[m_train_int:(m_train_int+m_dev_int), :]\n",
        "y_test = one_hot[(m_train_int+m_dev_int):, :]\n",
        "print(y_train.shape)"
      ],
      "execution_count": 21,
      "outputs": [
        {
          "output_type": "stream",
          "text": [
            "(8000, 6)\n"
          ],
          "name": "stdout"
        }
      ]
    },
    {
      "cell_type": "markdown",
      "metadata": {
        "id": "KzLd6LjwI0iA",
        "colab_type": "text"
      },
      "source": [
        "Let's build a tensorflow 2 model"
      ]
    },
    {
      "cell_type": "code",
      "metadata": {
        "id": "SdNZ1qipIite",
        "colab_type": "code",
        "colab": {}
      },
      "source": [
        "model = tf.keras.models.Sequential([\n",
        "    tf.keras.layers.Dense(5, activation='relu'),\n",
        "    tf.keras.layers.Dense(7, activation='relu'),\n",
        "    tf.keras.layers.Dense(6, activation='softmax'),\n",
        "])\n",
        "\n",
        "model.compile(optimizer='adam', loss='categorical_crossentropy',\n",
        "              metrics=['accuracy'])"
      ],
      "execution_count": 0,
      "outputs": []
    },
    {
      "cell_type": "markdown",
      "metadata": {
        "id": "s8J_YWSlJ3X7",
        "colab_type": "text"
      },
      "source": [
        "Train\n",
        "\n"
      ]
    },
    {
      "cell_type": "code",
      "metadata": {
        "id": "dizXVN6vJ1p9",
        "colab_type": "code",
        "colab": {
          "base_uri": "https://localhost:8080/",
          "height": 731
        },
        "outputId": "b0725bd6-0d88-48c1-ca37-00ccc45c39a0"
      },
      "source": [
        "model.fit(x_train, y_train, epochs=20, batch_size=32)"
      ],
      "execution_count": 23,
      "outputs": [
        {
          "output_type": "stream",
          "text": [
            "Train on 8000 samples\n",
            "Epoch 1/20\n",
            "8000/8000 [==============================] - 1s 89us/sample - loss: 1.6838 - accuracy: 0.2747\n",
            "Epoch 2/20\n",
            "8000/8000 [==============================] - 1s 76us/sample - loss: 1.2912 - accuracy: 0.5599\n",
            "Epoch 3/20\n",
            "8000/8000 [==============================] - 1s 72us/sample - loss: 0.8836 - accuracy: 0.7980\n",
            "Epoch 4/20\n",
            "8000/8000 [==============================] - 1s 74us/sample - loss: 0.5864 - accuracy: 0.8931\n",
            "Epoch 5/20\n",
            "8000/8000 [==============================] - 1s 70us/sample - loss: 0.4378 - accuracy: 0.9329\n",
            "Epoch 6/20\n",
            "8000/8000 [==============================] - 1s 69us/sample - loss: 0.3563 - accuracy: 0.9479\n",
            "Epoch 7/20\n",
            "8000/8000 [==============================] - 1s 75us/sample - loss: 0.3049 - accuracy: 0.9561\n",
            "Epoch 8/20\n",
            "8000/8000 [==============================] - 1s 73us/sample - loss: 0.2692 - accuracy: 0.9603\n",
            "Epoch 9/20\n",
            "8000/8000 [==============================] - 1s 74us/sample - loss: 0.2434 - accuracy: 0.9643\n",
            "Epoch 10/20\n",
            "8000/8000 [==============================] - 1s 75us/sample - loss: 0.2233 - accuracy: 0.9632\n",
            "Epoch 11/20\n",
            "8000/8000 [==============================] - 1s 78us/sample - loss: 0.2074 - accuracy: 0.9646\n",
            "Epoch 12/20\n",
            "8000/8000 [==============================] - 1s 74us/sample - loss: 0.1945 - accuracy: 0.9643\n",
            "Epoch 13/20\n",
            "8000/8000 [==============================] - 1s 73us/sample - loss: 0.1837 - accuracy: 0.9666\n",
            "Epoch 14/20\n",
            "8000/8000 [==============================] - 1s 75us/sample - loss: 0.1743 - accuracy: 0.9684\n",
            "Epoch 15/20\n",
            "8000/8000 [==============================] - 1s 73us/sample - loss: 0.1664 - accuracy: 0.9678\n",
            "Epoch 16/20\n",
            "8000/8000 [==============================] - 1s 70us/sample - loss: 0.1600 - accuracy: 0.9682\n",
            "Epoch 17/20\n",
            "8000/8000 [==============================] - 1s 69us/sample - loss: 0.1535 - accuracy: 0.9695\n",
            "Epoch 18/20\n",
            "8000/8000 [==============================] - 1s 70us/sample - loss: 0.1484 - accuracy: 0.9682\n",
            "Epoch 19/20\n",
            "8000/8000 [==============================] - 1s 70us/sample - loss: 0.1430 - accuracy: 0.9700\n",
            "Epoch 20/20\n",
            "8000/8000 [==============================] - 1s 69us/sample - loss: 0.1389 - accuracy: 0.9718\n"
          ],
          "name": "stdout"
        },
        {
          "output_type": "execute_result",
          "data": {
            "text/plain": [
              "<tensorflow.python.keras.callbacks.History at 0x7f15cdaca390>"
            ]
          },
          "metadata": {
            "tags": []
          },
          "execution_count": 23
        }
      ]
    },
    {
      "cell_type": "code",
      "metadata": {
        "id": "p_OyhLjLLDsr",
        "colab_type": "code",
        "colab": {
          "base_uri": "https://localhost:8080/",
          "height": 51
        },
        "outputId": "0296c889-cf67-410a-c716-62837730f1e3"
      },
      "source": [
        "model.evaluate(x_test, y_test)"
      ],
      "execution_count": 24,
      "outputs": [
        {
          "output_type": "stream",
          "text": [
            "1000/1000 [==============================] - 0s 72us/sample - loss: 0.1300 - accuracy: 0.9770\n"
          ],
          "name": "stdout"
        },
        {
          "output_type": "execute_result",
          "data": {
            "text/plain": [
              "[0.13001251649856568, 0.977]"
            ]
          },
          "metadata": {
            "tags": []
          },
          "execution_count": 24
        }
      ]
    },
    {
      "cell_type": "code",
      "metadata": {
        "id": "B_dFHxNhNDB_",
        "colab_type": "code",
        "colab": {
          "base_uri": "https://localhost:8080/",
          "height": 85
        },
        "outputId": "0cb3faa8-7729-453f-cfee-61305f379744"
      },
      "source": [
        "data_pred = np.array([[255,1,1], [1, 255, 1], [1, 1, 255], [237,\t235, 112]])\n",
        "print(model.predict(data_pred))"
      ],
      "execution_count": 28,
      "outputs": [
        {
          "output_type": "stream",
          "text": [
            "[[0. 0. 0. 0. 0. 1.]\n",
            " [0. 1. 0. 0. 0. 0.]\n",
            " [0. 0. 0. 1. 0. 0.]\n",
            " [0. 1. 0. 0. 0. 0.]]\n"
          ],
          "name": "stdout"
        }
      ]
    },
    {
      "cell_type": "code",
      "metadata": {
        "id": "Do6t5Fq0Na8g",
        "colab_type": "code",
        "colab": {}
      },
      "source": [
        ""
      ],
      "execution_count": 0,
      "outputs": []
    }
  ]
}